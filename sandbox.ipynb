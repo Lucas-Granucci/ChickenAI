{
 "cells": [
  {
   "cell_type": "code",
   "execution_count": 11,
   "metadata": {},
   "outputs": [],
   "source": [
    "import os\n",
    "from assistant.tba.tba_api import TheBlueAllianceAPI\n",
    "\n",
    "tba_api = TheBlueAllianceAPI(os.environ.get('TBA_API_KEY'))\n",
    "\n",
    "events = tba_api.get_events_in_year(\n",
    "                year = \"2025\"\n",
    "            )\n",
    "from pprint import pprint"
   ]
  },
  {
   "cell_type": "code",
   "execution_count": 12,
   "metadata": {},
   "outputs": [
    {
     "data": {
      "text/plain": [
       "[{'city': 'Eagan',\n",
       "  'country': 'USA',\n",
       "  'district': None,\n",
       "  'end_date': '2025-02-16',\n",
       "  'event_code': 'mnbt',\n",
       "  'event_type': 99,\n",
       "  'key': '2025mnbt',\n",
       "  'name': 'Blue Twilight Week Zero Invitational',\n",
       "  'start_date': '2025-02-15',\n",
       "  'state_prov': 'MN',\n",
       "  'year': 2025},\n",
       " {'city': 'Duluth',\n",
       "  'country': 'USA',\n",
       "  'district': None,\n",
       "  'end_date': '2025-03-01',\n",
       "  'event_code': 'mndu',\n",
       "  'event_type': 0,\n",
       "  'key': '2025mndu',\n",
       "  'name': 'Lake Superior Regional',\n",
       "  'start_date': '2025-02-26',\n",
       "  'state_prov': 'MN',\n",
       "  'year': 2025},\n",
       " {'city': 'Duluth',\n",
       "  'country': 'USA',\n",
       "  'district': None,\n",
       "  'end_date': '2025-03-01',\n",
       "  'event_code': 'mndu2',\n",
       "  'event_type': 0,\n",
       "  'key': '2025mndu2',\n",
       "  'name': 'Northern Lights Regional',\n",
       "  'start_date': '2025-02-26',\n",
       "  'state_prov': 'MN',\n",
       "  'year': 2025},\n",
       " {'city': 'Falcon Heights',\n",
       "  'country': 'USA',\n",
       "  'district': None,\n",
       "  'end_date': '2025-03-29',\n",
       "  'event_code': 'mnmi',\n",
       "  'event_type': 0,\n",
       "  'key': '2025mnmi',\n",
       "  'name': 'Minnesota 10,000 Lakes Regional',\n",
       "  'start_date': '2025-03-26',\n",
       "  'state_prov': 'MN',\n",
       "  'year': 2025},\n",
       " {'city': 'St. Cloud',\n",
       "  'country': 'USA',\n",
       "  'district': None,\n",
       "  'end_date': '2025-04-05',\n",
       "  'event_code': 'mnmi2',\n",
       "  'event_type': 0,\n",
       "  'key': '2025mnmi2',\n",
       "  'name': 'Minnesota Granite City Regional',\n",
       "  'start_date': '2025-04-02',\n",
       "  'state_prov': 'MN',\n",
       "  'year': 2025},\n",
       " {'city': 'Minneapolis',\n",
       "  'country': 'USA',\n",
       "  'district': None,\n",
       "  'end_date': '2025-04-05',\n",
       "  'event_code': 'mnum',\n",
       "  'event_type': 0,\n",
       "  'key': '2025mnum',\n",
       "  'name': 'Minnesota North Star Regional',\n",
       "  'start_date': '2025-04-02',\n",
       "  'state_prov': 'MN',\n",
       "  'year': 2025}]"
      ]
     },
     "execution_count": 12,
     "metadata": {},
     "output_type": "execute_result"
    }
   ],
   "source": [
    "[event for event in events if event['state_prov']=='MN']"
   ]
  },
  {
   "cell_type": "code",
   "execution_count": 5,
   "metadata": {},
   "outputs": [
    {
     "name": "stdout",
     "output_type": "stream",
     "text": [
      "{'city': 'Glendale',\n",
      " 'country': 'USA',\n",
      " 'district': None,\n",
      " 'end_date': '2024-08-17',\n",
      " 'event_code': 'azrl3',\n",
      " 'event_type': 99,\n",
      " 'key': '2024azrl3',\n",
      " 'name': 'Arizona Robotics League Qualifier 3',\n",
      " 'start_date': '2024-08-16',\n",
      " 'state_prov': 'AZ',\n",
      " 'year': 2024}\n"
     ]
    }
   ],
   "source": [
    "pprint(events[10])"
   ]
  },
  {
   "cell_type": "code",
   "execution_count": 9,
   "metadata": {},
   "outputs": [
    {
     "name": "stdout",
     "output_type": "stream",
     "text": [
      "{'city': 'Mato Grosso',\n",
      " 'country': 'Brazil',\n",
      " 'district': None,\n",
      " 'end_date': '2024-08-08',\n",
      " 'event_code': 'xxcui',\n",
      " 'event_type': 99,\n",
      " 'key': '2024xxcui',\n",
      " 'name': 'Festival SESI de Robótica - Etapa Off Season - Mato Grosso',\n",
      " 'start_date': '2024-08-06',\n",
      " 'state_prov': 'MT',\n",
      " 'year': 2024}\n"
     ]
    }
   ],
   "source": [
    "pprint(events[268])"
   ]
  },
  {
   "cell_type": "code",
   "execution_count": null,
   "metadata": {},
   "outputs": [],
   "source": []
  }
 ],
 "metadata": {
  "kernelspec": {
   "display_name": "chickenai",
   "language": "python",
   "name": "python3"
  },
  "language_info": {
   "codemirror_mode": {
    "name": "ipython",
    "version": 3
   },
   "file_extension": ".py",
   "mimetype": "text/x-python",
   "name": "python",
   "nbconvert_exporter": "python",
   "pygments_lexer": "ipython3",
   "version": "3.12.5"
  }
 },
 "nbformat": 4,
 "nbformat_minor": 2
}
